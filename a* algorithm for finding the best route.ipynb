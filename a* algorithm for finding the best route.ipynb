{
 "cells": [
  {
   "cell_type": "code",
   "execution_count": 1,
   "metadata": {},
   "outputs": [],
   "source": [
    "import heapq"
   ]
  },
  {
   "cell_type": "markdown",
   "metadata": {},
   "source": [
    "# Define Fungsi Heuristic"
   ]
  },
  {
   "cell_type": "code",
   "execution_count": 2,
   "metadata": {},
   "outputs": [],
   "source": [
    "# Fungsi heuristik: estimasi jarak langsung dari node ke tujuan menggunakan koordinat posisi\n",
    "def heuristic(a, b):\n",
    "    pos_a = positions[a]\n",
    "    pos_b = positions[b]\n",
    "    return abs(pos_a[0] - pos_b[0]) + abs(pos_a[1] - pos_b[1])"
   ]
  },
  {
   "cell_type": "markdown",
   "metadata": {},
   "source": [
    "# Define Algorithm"
   ]
  },
  {
   "cell_type": "code",
   "execution_count": 3,
   "metadata": {},
   "outputs": [],
   "source": [
    "# Fungsi A* untuk menemukan rute terdekat\n",
    "def a_star_search(start, goal, graph):\n",
    "    open_list = []\n",
    "    heapq.heappush(open_list, (0, start))\n",
    "    came_from = {}\n",
    "    cost_so_far = {}\n",
    "    \n",
    "    came_from[start] = None\n",
    "    cost_so_far[start] = 0\n",
    "    \n",
    "    while open_list:\n",
    "        _, current = heapq.heappop(open_list)\n",
    "        \n",
    "        if current == goal:\n",
    "            break\n",
    "        \n",
    "        for next_node, cost in graph.get(current, []):\n",
    "            new_cost = cost_so_far[current] + cost\n",
    "            if next_node not in cost_so_far or new_cost < cost_so_far[next_node]:\n",
    "                cost_so_far[next_node] = new_cost\n",
    "                priority = new_cost + heuristic(goal, next_node)\n",
    "                heapq.heappush(open_list, (priority, next_node))\n",
    "                came_from[next_node] = current\n",
    "    \n",
    "    if goal not in cost_so_far:\n",
    "        print(f\"Goal '{goal}' tidak dapat dijangkau dari '{start}'.\")\n",
    "        return [], float('inf')\n",
    "    \n",
    "    # Rekonstruksi rute dari goal ke start\n",
    "    route = []\n",
    "    current = goal\n",
    "    while current:\n",
    "        route.append(current)\n",
    "        current = came_from.get(current)\n",
    "    route.reverse()\n",
    "    \n",
    "    return route, cost_so_far[goal]  # Return rute dan total biaya (jarak)\n"
   ]
  },
  {
   "cell_type": "markdown",
   "metadata": {},
   "source": [
    "# Ubah beberapa line sesuai dengan kehendak\n"
   ]
  },
  {
   "cell_type": "code",
   "execution_count": 4,
   "metadata": {},
   "outputs": [],
   "source": [
    "# Definisikan graf dengan jarak antar kota dan jalur alternatif\n",
    "graph = {\n",
    "    'Yogyakarta': [('Klaten', 45)],\n",
    "    'Klaten': [('Yogyakarta', 45), ('Kartasura', 28), ('Sukoharjo', 27),('Boyolali',35)],\n",
    "    'Kartasura': [('Solo', 10), ('Klaten', 28)],\n",
    "    'Sukoharjo': [('Solo', 12), ('Klaten', 27)],\n",
    "    'Solo': [('Kartasura', 10), ('Sukoharjo', 12)],\n",
    "    'Boyolali' : [('Kartasura', 19),('Klaten', 35)]\n",
    "}\n",
    "\n",
    "# Definisikan posisi kota (untuk heuristik)\n",
    "positions = {\n",
    "    'Yogyakarta': (0, 0),\n",
    "    'Klaten': (30, 10),\n",
    "    'Kartasura': (20, 30),\n",
    "    'Boyolali' : (45,45),\n",
    "    'Sukoharjo': (25, 25),\n",
    "    'Solo': (40, 40)\n",
    "}"
   ]
  },
  {
   "cell_type": "markdown",
   "metadata": {},
   "source": [
    "# Memulai Model"
   ]
  },
  {
   "cell_type": "code",
   "execution_count": 5,
   "metadata": {},
   "outputs": [],
   "source": [
    "# Jalankan A* untuk menemukan rute dari Magelang ke Tawangmangu\n",
    "start = 'Solo'\n",
    "goal = 'Yogyakarta'\n",
    "route, total_cost = a_star_search(start, goal, graph)\n"
   ]
  },
  {
   "cell_type": "markdown",
   "metadata": {},
   "source": [
    "# Output"
   ]
  },
  {
   "cell_type": "code",
   "execution_count": 6,
   "metadata": {},
   "outputs": [
    {
     "name": "stdout",
     "output_type": "stream",
     "text": [
      "Rute terdekat dari Solo ke Yogyakarta: ['Solo', 'Kartasura', 'Klaten', 'Yogyakarta']\n",
      "Total jarak: 83 km\n",
      "\n",
      "Detail Perhitungan:\n",
      "Rute alternatif yang dipertimbangkan :\n",
      "Rute: Solo -> Kartasura (Jarak langsung: 10 km) + Jarak heuristik ke Yogyakarta: 50 km\n",
      "Rute: Solo -> Sukoharjo (Jarak langsung: 12 km) + Jarak heuristik ke Yogyakarta: 50 km\n",
      "\n",
      "Total jarak yang dihitung dari tiap node sampai tujuan:\n",
      "Solo -> Kartasura: 10 km\n",
      "Kartasura -> Klaten: 28 km\n",
      "Klaten -> Yogyakarta: 45 km\n"
     ]
    }
   ],
   "source": [
    "if route:\n",
    "    print(f'Rute terdekat dari {start} ke {goal}: {route}')\n",
    "    print(f'Total jarak: {total_cost} km')\n",
    "\n",
    "    # Penjelasan tambahan: Alasan matematis mengapa rute ini terpilih\n",
    "    print(\"\\nDetail Perhitungan:\")\n",
    "    print(\"Rute alternatif yang dipertimbangkan :\")\n",
    "    for next_city, distance in graph.get(start, []):\n",
    "        print(f\"Rute: {start} -> {next_city} (Jarak langsung: {distance} km) + Jarak heuristik ke {goal}: {heuristic(next_city, goal)} km\")\n",
    "\n",
    "    print(\"\\nTotal jarak yang dihitung dari tiap node sampai tujuan:\")\n",
    "    for i in range(len(route) - 1):\n",
    "        from_city = route[i]\n",
    "        to_city = route[i + 1]\n",
    "        distance = dict(graph[from_city])[to_city]\n",
    "        print(f\"{from_city} -> {to_city}: {distance} km\")\n",
    "else:\n",
    "    print(f\"Rute dari {start} ke {goal} tidak ditemukan.\")"
   ]
  }
 ],
 "metadata": {
  "kernelspec": {
   "display_name": ".venv",
   "language": "python",
   "name": "python3"
  },
  "language_info": {
   "codemirror_mode": {
    "name": "ipython",
    "version": 3
   },
   "file_extension": ".py",
   "mimetype": "text/x-python",
   "name": "python",
   "nbconvert_exporter": "python",
   "pygments_lexer": "ipython3",
   "version": "3.12.5"
  }
 },
 "nbformat": 4,
 "nbformat_minor": 2
}
